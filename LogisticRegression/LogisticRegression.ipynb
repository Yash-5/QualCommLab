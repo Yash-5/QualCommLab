{
 "cells": [
  {
   "cell_type": "code",
   "execution_count": 8,
   "metadata": {
    "collapsed": true,
    "deletable": true,
    "editable": true
   },
   "outputs": [],
   "source": [
    "# Import files\n",
    "import numpy as np\n",
    "from sklearn.linear_model import LogisticRegression\n",
    "from sklearn.metrics import *"
   ]
  },
  {
   "cell_type": "code",
   "execution_count": 9,
   "metadata": {
    "collapsed": true,
    "deletable": true,
    "editable": true
   },
   "outputs": [],
   "source": [
    "# Loading the train and text datasets:\n",
    "def loadDataset(filename):\n",
    "    \"\"\"\n",
    "    Use for np.genfromtxt for the dataset\n",
    "        You can use skip_header in the header if the csv has a header\n",
    "    This function should return a numpy array with the data from the input csv\n",
    "    \"\"\"\n",
    "    dataset = None\n",
    "\n",
    "    return dataset"
   ]
  },
  {
   "cell_type": "markdown",
   "metadata": {},
   "source": [
    "Explore different parameters you can set for the classifier [here](http://scikit-learn.org/stable/modules/generated/sklearn.linear_model.LogisticRegression.html)\n"
   ]
  },
  {
   "cell_type": "code",
   "execution_count": 10,
   "metadata": {
    "collapsed": true
   },
   "outputs": [],
   "source": [
    "def trainModel(X_train, train_labels):\n",
    "    # All parameter will have their default value\n",
    "    model = LogisticRegression()\n",
    "    \n",
    "    # Use appropriate function to fit the model to the data\n",
    "    # You may look for the function at the link given above\n",
    "    \n",
    "    return model"
   ]
  },
  {
   "cell_type": "code",
   "execution_count": 11,
   "metadata": {
    "collapsed": true
   },
   "outputs": [],
   "source": [
    "def testModel(model, X_test):\n",
    "    # Look for the usage for predict() at the link above and get predict_labels\n",
    "    predict_labels = None\n",
    "\n",
    "    return predict_labels"
   ]
  },
  {
   "cell_type": "markdown",
   "metadata": {},
   "source": [
    "Find the appropriate metric from [here](http://scikit-learn.org/stable/modules/classes.html#module-sklearn.metrics)\n",
    "\n",
    "Remember that we need accuracy"
   ]
  },
  {
   "cell_type": "code",
   "execution_count": 12,
   "metadata": {
    "collapsed": true
   },
   "outputs": [],
   "source": [
    "def checkAccuracy(trueLabels, predictedLabels):\n",
    "    accuracy = None\n",
    "\n",
    "    return accuracy"
   ]
  },
  {
   "cell_type": "code",
   "execution_count": 13,
   "metadata": {
    "collapsed": true
   },
   "outputs": [],
   "source": [
    "def main():\n",
    "    # Creating and training a model\n",
    "    # Fill in the filename that you want to load\n",
    "    trainDataFile = \"../datasets/traindata.csv\"\n",
    "    trainDataset = loadDataset(trainDataFile)\n",
    "\n",
    "    X_train, train_labels = trainDataset[:, :-1], trainDataset[:, -1:]\n",
    "\n",
    "    # You might want to remove the id which is the first category\n",
    "\n",
    "    \n",
    "    # After removing the id, we create a trained model\n",
    "    LogisticRegressionEstimator = trainModel(X_train, train_labels)\n",
    "    \n",
    "    # Kindly do the same for test data which is datasets/testdata.csv\n",
    "    testDataFile = \"../datasets/testdata.csv\"\n",
    "\n",
    "    # Please make sure the test data and labels are X_test and test_labels\n",
    "    X_test, trueLabels = None, None\n",
    "\n",
    "    \n",
    "    # We let our trained model predict the labels\n",
    "    predictedLabels = testModel(LogisticRegressionEstimator, X_test)\n",
    "    \n",
    "    # We calculate the accuracy for the model\n",
    "    accuracy = checkAccuracy(trueLabels, predictedLabels)\n",
    "    print(\"Yay, we got this accuracy:\", accuracy)"
   ]
  },
  {
   "cell_type": "markdown",
   "metadata": {},
   "source": [
    "Feel free to play around with the hyperparameters and model as you see fit! :)"
   ]
  },
  {
   "cell_type": "code",
   "execution_count": null,
   "metadata": {
    "collapsed": true
   },
   "outputs": [],
   "source": [
    "main()"
   ]
  }
 ],
 "metadata": {
  "kernelspec": {
   "display_name": "Python 3",
   "language": "python",
   "name": "python3"
  },
  "language_info": {
   "codemirror_mode": {
    "name": "ipython",
    "version": 3
   },
   "file_extension": ".py",
   "mimetype": "text/x-python",
   "name": "python",
   "nbconvert_exporter": "python",
   "pygments_lexer": "ipython3",
   "version": "3.6.1"
  }
 },
 "nbformat": 4,
 "nbformat_minor": 2
}
